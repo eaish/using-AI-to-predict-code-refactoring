{
 "cells": [
  {
   "cell_type": "code",
   "execution_count": 9,
   "id": "92071b5e",
   "metadata": {},
   "outputs": [],
   "source": [
    "from imblearn.under_sampling import RandomUnderSampler\n",
    "import pandas as pd"
   ]
  },
  {
   "cell_type": "code",
   "execution_count": null,
   "id": "fa6aa407",
   "metadata": {},
   "outputs": [],
   "source": []
  },
  {
   "cell_type": "code",
   "execution_count": 10,
   "id": "5329c413",
   "metadata": {},
   "outputs": [],
   "source": [
    "def label_feature_data_and_merge(refactored_data, non_refactore_data):\n",
    "    \"\"\"\n",
    "        This method is to label \"1\" for refactored and \"0\" for non refactored instances. \n",
    "    \"\"\"\n",
    "    refactored_data[\"refactored\"] = 1\n",
    "    non_refactore_data[\"refactored\"] = 0\n",
    "    \n",
    "    return pd.concat([refactored_data, non_refactore_data])\n",
    "\n",
    "def balance_dataset(x,y):\n",
    "    \"\"\"\n",
    "        Method is to balance data using from RandomUnderSampler\n",
    "    \"\"\"\n",
    "    rus = RandomUnderSampler(random_state=20)\n",
    "    x, y =  rus.fit_resample(x, y)\n",
    "    \n",
    "    return (x, y)"
   ]
  }
 ],
 "metadata": {
  "kernelspec": {
   "display_name": "Python 3",
   "language": "python",
   "name": "python3"
  },
  "language_info": {
   "codemirror_mode": {
    "name": "ipython",
    "version": 3
   },
   "file_extension": ".py",
   "mimetype": "text/x-python",
   "name": "python",
   "nbconvert_exporter": "python",
   "pygments_lexer": "ipython3",
   "version": "3.8.8"
  }
 },
 "nbformat": 4,
 "nbformat_minor": 5
}
