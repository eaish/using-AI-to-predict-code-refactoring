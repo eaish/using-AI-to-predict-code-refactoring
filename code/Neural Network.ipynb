{
 "cells": [
  {
   "cell_type": "code",
   "execution_count": 68,
   "id": "cbd76333",
   "metadata": {},
   "outputs": [],
   "source": [
    "from keras.models import Sequential\n",
    "from keras.layers import Dense\n",
    "import pandas as pd\n",
    "from ipynb.fs.full.Pipeline import label_feature_data_and_merge\n",
    "from sklearn.model_selection import train_test_split\n",
    "import numpy as np\n",
    "from sklearn.metrics import recall_score\n",
    "from sklearn.metrics import precision_score\n",
    "import time \n",
    "from imblearn.under_sampling import RandomUnderSampler"
   ]
  },
  {
   "cell_type": "code",
   "execution_count": 3,
   "id": "5fdbec79",
   "metadata": {},
   "outputs": [],
   "source": [
    "def load_cache_data_and_preprocess_it(refactored_file_path, non_refactored_file_path):\n",
    "    \n",
    "    refactored_data = pd.read_feather(refactored_file_path)\n",
    "    refactored_data.set_index(\"index\", inplace=True)\n",
    "    \n",
    "    non_refactored_data = pd.read_feather(non_refactored_file_path)\n",
    "    non_refactored_data.set_index(\"index\", inplace=True)\n",
    "    \n",
    "    data = label_feature_data_and_merge(refactored_data, non_refactored_data)\n",
    "    y = data[\"refactored\"]\n",
    "    x = data.drop(\"refactored\", axis=1)\n",
    "    \n",
    "    print(y.value_counts())\n",
    "    \n",
    "    return (x, y)"
   ]
  },
  {
   "cell_type": "code",
   "execution_count": 210,
   "id": "a84ab698",
   "metadata": {},
   "outputs": [],
   "source": [
    "# PICK first refactoring metric\n",
    "refactored_file_path = ''.join(['data/', ''.join(METHOD_LEVEL_REFACTORINGS[13].lower().split()), '.ftr'])\n",
    "non_refactored_file_path = '/Users/sanjaydutt/Documents/CSC503_project/data/nonrefactoreddata.ftr'"
   ]
  },
  {
   "cell_type": "code",
   "execution_count": 211,
   "id": "e5f97815",
   "metadata": {},
   "outputs": [
    {
     "name": "stdout",
     "output_type": "stream",
     "text": [
      "0    66803\n",
      "1     1213\n",
      "Name: refactored, dtype: int64\n"
     ]
    }
   ],
   "source": [
    "(x, y) = load_cache_data_and_preprocess_it(refactored_file_path, non_refactored_file_path)"
   ]
  },
  {
   "cell_type": "code",
   "execution_count": null,
   "id": "48152f9a",
   "metadata": {},
   "outputs": [],
   "source": []
  },
  {
   "cell_type": "code",
   "execution_count": 212,
   "id": "587ce5d3",
   "metadata": {},
   "outputs": [],
   "source": [
    "undersample = RandomUnderSampler(sampling_strategy='majority')\n",
    "X_over, y_over = undersample.fit_resample(x, y)"
   ]
  },
  {
   "cell_type": "code",
   "execution_count": 213,
   "id": "ec07b9bd",
   "metadata": {},
   "outputs": [],
   "source": [
    "(X_train, X_test, y_train, y_test) = train_test_split(X_over, y_over, test_size=0.20, random_state=42)"
   ]
  },
  {
   "cell_type": "code",
   "execution_count": 214,
   "id": "5f819a22",
   "metadata": {},
   "outputs": [
    {
     "data": {
      "text/plain": [
       "(1940, 69)"
      ]
     },
     "execution_count": 214,
     "metadata": {},
     "output_type": "execute_result"
    }
   ],
   "source": [
    "X_train.shape"
   ]
  },
  {
   "cell_type": "code",
   "execution_count": 215,
   "id": "b0afb130",
   "metadata": {},
   "outputs": [],
   "source": [
    "model = Sequential()\n",
    "model.add(Dense(128, input_dim=69, activation='relu'))\n",
    "model.add(Dense(64, activation='relu'))\n",
    "model.add(Dense(1, activation='sigmoid'))"
   ]
  },
  {
   "cell_type": "code",
   "execution_count": 216,
   "id": "37427602",
   "metadata": {},
   "outputs": [],
   "source": [
    "model.compile(loss='binary_crossentropy', optimizer='adam', metrics=['accuracy'])"
   ]
  },
  {
   "cell_type": "code",
   "execution_count": 217,
   "id": "e7850b5f",
   "metadata": {},
   "outputs": [
    {
     "name": "stdout",
     "output_type": "stream",
     "text": [
      "Epoch 1/20\n",
      "194/194 [==============================] - 1s 677us/step - loss: 38.2001 - accuracy: 0.6757\n",
      "Epoch 2/20\n",
      "194/194 [==============================] - 0s 644us/step - loss: 17.1503 - accuracy: 0.7232\n",
      "Epoch 3/20\n",
      "194/194 [==============================] - 0s 638us/step - loss: 9.6130 - accuracy: 0.7593\n",
      "Epoch 4/20\n",
      "194/194 [==============================] - 0s 684us/step - loss: 9.4271 - accuracy: 0.7732\n",
      "Epoch 5/20\n",
      "194/194 [==============================] - 0s 674us/step - loss: 6.9667 - accuracy: 0.7998\n",
      "Epoch 6/20\n",
      "194/194 [==============================] - 0s 650us/step - loss: 2.5669 - accuracy: 0.8228\n",
      "Epoch 7/20\n",
      "194/194 [==============================] - 0s 668us/step - loss: 3.7386 - accuracy: 0.8260\n",
      "Epoch 8/20\n",
      "194/194 [==============================] - 0s 656us/step - loss: 2.4851 - accuracy: 0.8376\n",
      "Epoch 9/20\n",
      "194/194 [==============================] - 0s 651us/step - loss: 2.0403 - accuracy: 0.8184\n",
      "Epoch 10/20\n",
      "194/194 [==============================] - 0s 742us/step - loss: 1.0616 - accuracy: 0.8592\n",
      "Epoch 11/20\n",
      "194/194 [==============================] - 0s 645us/step - loss: 1.3000 - accuracy: 0.8608\n",
      "Epoch 12/20\n",
      "194/194 [==============================] - 0s 637us/step - loss: 1.4146 - accuracy: 0.8610\n",
      "Epoch 13/20\n",
      "194/194 [==============================] - 0s 659us/step - loss: 3.0027 - accuracy: 0.8514\n",
      "Epoch 14/20\n",
      "194/194 [==============================] - 0s 672us/step - loss: 0.7843 - accuracy: 0.8685\n",
      "Epoch 15/20\n",
      "194/194 [==============================] - 0s 646us/step - loss: 0.8808 - accuracy: 0.8757\n",
      "Epoch 16/20\n",
      "194/194 [==============================] - 0s 680us/step - loss: 0.9040 - accuracy: 0.8883\n",
      "Epoch 17/20\n",
      "194/194 [==============================] - 0s 669us/step - loss: 0.6128 - accuracy: 0.8944\n",
      "Epoch 18/20\n",
      "194/194 [==============================] - 0s 682us/step - loss: 0.4440 - accuracy: 0.9110\n",
      "Epoch 19/20\n",
      "194/194 [==============================] - 0s 658us/step - loss: 0.8863 - accuracy: 0.8813\n",
      "Epoch 20/20\n",
      "194/194 [==============================] - 0s 646us/step - loss: 0.2879 - accuracy: 0.9148\n",
      "Total time taken: 3.3067409992218018\n"
     ]
    }
   ],
   "source": [
    "t0 = time.time()\n",
    "model.fit(X_train, y_train, epochs=20, batch_size=10)\n",
    "print(\"Total time taken:\", time.time() - t0)"
   ]
  },
  {
   "cell_type": "code",
   "execution_count": 219,
   "id": "ad03850d",
   "metadata": {},
   "outputs": [
    {
     "name": "stdout",
     "output_type": "stream",
     "text": [
      "Precision: 0.8617886178861789\n",
      "Recall: 0.8945147679324894\n"
     ]
    }
   ],
   "source": [
    "y_pred = np.round(model.predict(X_test),0)\n",
    "print(\"Precision:\",precision_score(y_test, y_pred))\n",
    "print(\"Recall:\",recall_score(y_test, y_pred))"
   ]
  },
  {
   "cell_type": "code",
   "execution_count": 220,
   "id": "d6b5251c",
   "metadata": {},
   "outputs": [
    {
     "name": "stdout",
     "output_type": "stream",
     "text": [
      "Training time: 0.04994487762451172\n"
     ]
    }
   ],
   "source": [
    "t1 = time.time()\n",
    "model.predict(X_test)\n",
    "print(\"Training time:\", time.time() - t1)"
   ]
  },
  {
   "cell_type": "code",
   "execution_count": null,
   "id": "be01b950",
   "metadata": {},
   "outputs": [],
   "source": []
  }
 ],
 "metadata": {
  "kernelspec": {
   "display_name": "Python 3",
   "language": "python",
   "name": "python3"
  },
  "language_info": {
   "codemirror_mode": {
    "name": "ipython",
    "version": 3
   },
   "file_extension": ".py",
   "mimetype": "text/x-python",
   "name": "python",
   "nbconvert_exporter": "python",
   "pygments_lexer": "ipython3",
   "version": "3.8.8"
  }
 },
 "nbformat": 4,
 "nbformat_minor": 5
}
