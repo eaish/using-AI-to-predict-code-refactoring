{
 "cells": [
  {
   "cell_type": "code",
   "execution_count": 23,
   "id": "a192fc4a",
   "metadata": {},
   "outputs": [],
   "source": [
    "from sklearn.naive_bayes import GaussianNB\n",
    "from keras.models import Sequential\n",
    "from keras.layers import Dense\n",
    "import pandas as pd\n",
    "from ipynb.fs.full.Pipeline import label_feature_data_and_merge\n",
    "from sklearn.model_selection import train_test_split\n",
    "import numpy as np\n",
    "from sklearn.metrics import recall_score\n",
    "from sklearn.metrics import precision_score\n",
    "import time \n",
    "from imblearn.under_sampling import RandomUnderSampler\n",
    "\n",
    "from sklearn.model_selection import RandomizedSearchCV, StratifiedKFold"
   ]
  },
  {
   "cell_type": "code",
   "execution_count": 6,
   "id": "685d39f9",
   "metadata": {},
   "outputs": [],
   "source": [
    "def load_cache_data_and_preprocess_it(refactored_file_path, non_refactored_file_path):\n",
    "    \n",
    "    refactored_data = pd.read_feather(refactored_file_path)\n",
    "    refactored_data.set_index(\"index\", inplace=True)\n",
    "    \n",
    "    non_refactored_data = pd.read_feather(non_refactored_file_path)\n",
    "    non_refactored_data.set_index(\"index\", inplace=True)\n",
    "    \n",
    "    data = label_feature_data_and_merge(refactored_data, non_refactored_data)\n",
    "    y = data[\"refactored\"]\n",
    "    x = data.drop(\"refactored\", axis=1)\n",
    "    \n",
    "    print(y.value_counts())\n",
    "    \n",
    "    return (x, y)"
   ]
  },
  {
   "cell_type": "code",
   "execution_count": 7,
   "id": "084c56c0",
   "metadata": {},
   "outputs": [],
   "source": [
    "class GaussianNaiveBayesRefactoringModel():\n",
    "    def feature_reduction(self) -> bool:\n",
    "        return False\n",
    "\n",
    "    def params_to_tune(self):\n",
    "        return {\"var_smoothing\": [1e-10, 1e-09, 1e-08, 1e-07, 1e-06, 1e-05]}\n",
    "\n",
    "    def model(self, best_params=None):\n",
    "        if best_params is not None:\n",
    "            return GaussianNB(var_smoothing=best_params[\"var_smoothing\"])\n",
    "        return GaussianNB()"
   ]
  },
  {
   "cell_type": "code",
   "execution_count": 131,
   "id": "21629537",
   "metadata": {},
   "outputs": [],
   "source": [
    "METHOD_LEVEL_REFACTORINGS = [\n",
    "    \"Extract And Move Method\",\n",
    "    \"Extract Method\",\n",
    "    \"Inline Method\",\n",
    "    \"Move Method\",\n",
    "    \"Pull Up Method\",\n",
    "    \"Push Down Method\",\n",
    "    \"Rename Method\",\n",
    "    \"Extract And Move Method\",\n",
    "    \"Change Return Type\",\n",
    "    \"Move And Inline Method\",\n",
    "    \"Move And Rename Method\",\n",
    "    \"Change Parameter Type\",\n",
    "    \"Split Parameter\",\n",
    "    \"Merge Parameter\"]\n",
    "# PICK first refactoring metric\n",
    "refactored_file_path = ''.join(['data/', ''.join(METHOD_LEVEL_REFACTORINGS[13].lower().split()), '.ftr'])\n",
    "non_refactored_file_path = '/Users/sanjaydutt/Documents/CSC503_project/data/nonrefactoreddata.ftr'"
   ]
  },
  {
   "cell_type": "code",
   "execution_count": 132,
   "id": "4de3aba7",
   "metadata": {},
   "outputs": [
    {
     "name": "stdout",
     "output_type": "stream",
     "text": [
      "0    66803\n",
      "1     1213\n",
      "Name: refactored, dtype: int64\n"
     ]
    }
   ],
   "source": [
    "(x, y) = load_cache_data_and_preprocess_it(refactored_file_path, non_refactored_file_path)"
   ]
  },
  {
   "cell_type": "code",
   "execution_count": 133,
   "id": "489034cd",
   "metadata": {},
   "outputs": [
    {
     "name": "stdout",
     "output_type": "stream",
     "text": [
      "0    1213\n",
      "1    1213\n",
      "Name: refactored, dtype: int64\n"
     ]
    }
   ],
   "source": [
    "undersample = RandomUnderSampler(sampling_strategy='majority')\n",
    "X_over, y_over = undersample.fit_resample(x, y)\n",
    "\n",
    "print(y_over.value_counts())"
   ]
  },
  {
   "cell_type": "code",
   "execution_count": 134,
   "id": "aafc1a2f",
   "metadata": {},
   "outputs": [],
   "source": [
    "(X_train, X_test, y_train, y_test) = train_test_split(X_over, y_over, test_size=0.20, random_state=42)"
   ]
  },
  {
   "cell_type": "code",
   "execution_count": 135,
   "id": "e0b933b0",
   "metadata": {},
   "outputs": [],
   "source": [
    "def get_naive_bayes_random_cv():\n",
    "    gussianNaiveBayes = GaussianNaiveBayesRefactoringModel()\n",
    "    model = gussianNaiveBayes.model()\n",
    "    param_dist = gussianNaiveBayes.params_to_tune()\n",
    "    search = RandomizedSearchCV(\n",
    "                model,\n",
    "                param_dist,\n",
    "                n_iter=100,\n",
    "                cv=StratifiedKFold(\n",
    "                    n_splits=7,\n",
    "                    shuffle=True),\n",
    "                scoring=\"accuracy\",\n",
    "                n_jobs=-1,\n",
    "                verbose=1)\n",
    "    return search"
   ]
  },
  {
   "cell_type": "code",
   "execution_count": 136,
   "id": "dec82ad8",
   "metadata": {},
   "outputs": [],
   "source": [
    "random_cv = get_naive_bayes_random_cv()\n",
    "\n"
   ]
  },
  {
   "cell_type": "code",
   "execution_count": 137,
   "id": "e72c0314",
   "metadata": {},
   "outputs": [
    {
     "name": "stderr",
     "output_type": "stream",
     "text": [
      "/opt/anaconda3/lib/python3.8/site-packages/sklearn/model_selection/_search.py:285: UserWarning: The total space of parameters 6 is smaller than n_iter=100. Running 6 iterations. For exhaustive searches, use GridSearchCV.\n",
      "  warnings.warn(\n"
     ]
    },
    {
     "name": "stdout",
     "output_type": "stream",
     "text": [
      "Fitting 7 folds for each of 6 candidates, totalling 42 fits\n",
      "The training time: 0.2460489273071289\n",
      "GaussianNB(var_smoothing=1e-10)\n",
      "The validation time: 0.0033028125762939453\n",
      "The accuracy of the model 0.602880658436214\n",
      "Recall score is 0.9240506329113924\n",
      "Precision score is 0.5558375634517766\n"
     ]
    }
   ],
   "source": [
    "t0 = time.time()\n",
    "random_cv.fit(X_train, y_train)\n",
    "print(\"The training time:\", time.time() - t0)\n",
    "best_estimator = random_cv.best_estimator_\n",
    " \n",
    "print(best_estimator)\n",
    "t1 = time.time()\n",
    "y_pred = best_estimator.predict(X_test)\n",
    "print(\"The validation time:\", time.time() - t1)\n",
    "        \n",
    "print(\"The accuracy of the model\", best_estimator.score(X_test, y_test))\n",
    "print(\"Recall score is\", recall_score(y_test, best_estimator.predict(X_test)))\n",
    "print(\"Precision score is\", precision_score(y_test, best_estimator.predict(X_test)))"
   ]
  },
  {
   "cell_type": "code",
   "execution_count": null,
   "id": "60ff74c4",
   "metadata": {},
   "outputs": [],
   "source": []
  },
  {
   "cell_type": "code",
   "execution_count": null,
   "id": "d8224d6c",
   "metadata": {},
   "outputs": [],
   "source": []
  }
 ],
 "metadata": {
  "kernelspec": {
   "display_name": "Python 3",
   "language": "python",
   "name": "python3"
  },
  "language_info": {
   "codemirror_mode": {
    "name": "ipython",
    "version": 3
   },
   "file_extension": ".py",
   "mimetype": "text/x-python",
   "name": "python",
   "nbconvert_exporter": "python",
   "pygments_lexer": "ipython3",
   "version": "3.8.8"
  }
 },
 "nbformat": 4,
 "nbformat_minor": 5
}
