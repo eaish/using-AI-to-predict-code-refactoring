{
 "cells": [
  {
   "cell_type": "code",
   "execution_count": 44,
   "id": "c5d0e003",
   "metadata": {},
   "outputs": [],
   "source": [
    "import mysql.connector\n",
    "import pandas as pd"
   ]
  },
  {
   "cell_type": "code",
   "execution_count": 68,
   "id": "2f78ee23",
   "metadata": {},
   "outputs": [],
   "source": [
    "host = \"127.0.0.1\"\n",
    "user = \"root\"\n",
    "pwd = \"root\"\n",
    "database = \"refactoring_ai\"\n",
    "mydb = mysql.connector.connect(\n",
    "    host=host,\n",
    "    user=user,\n",
    "    passwd=pwd,\n",
    "    database=database)"
   ]
  },
  {
   "cell_type": "code",
   "execution_count": 69,
   "id": "b055946a",
   "metadata": {},
   "outputs": [],
   "source": [
    "# Query to fetch Non Refactored Data \n",
    "NON_REFACTORED_DATA_QUERY = \"\"\"SELECT CONCAT_WS('.', 'StableCommit', StableCommit.id) AS `index`, ClassMetric.classAnonymousClassesQty, ClassMetric.classAssignmentsQty, ClassMetric.classCbo, ClassMetric.classComparisonsQty, ClassMetric.classLambdasQty, ClassMetric.classLcom, ClassMetric.classLoc, ClassMetric.classLCC, ClassMetric.classLoopQty, ClassMetric.classMathOperationsQty, ClassMetric.classMaxNestedBlocks, ClassMetric.classNosi, ClassMetric.classNumberOfAbstractMethods, ClassMetric.classNumberOfDefaultFields, ClassMetric.classNumberOfDefaultMethods, ClassMetric.classNumberOfFields, ClassMetric.classNumberOfFinalFields, ClassMetric.classNumberOfFinalMethods, ClassMetric.classNumberOfMethods, ClassMetric.classNumberOfPrivateFields, ClassMetric.classNumberOfPrivateMethods, ClassMetric.classNumberOfProtectedFields, ClassMetric.classNumberOfProtectedMethods, ClassMetric.classNumberOfPublicFields, ClassMetric.classNumberOfPublicMethods, ClassMetric.classNumberOfStaticFields, ClassMetric.classNumberOfStaticMethods, ClassMetric.classNumberOfSynchronizedFields, ClassMetric.classNumberOfSynchronizedMethods, ClassMetric.classNumbersQty, ClassMetric.classParenthesizedExpsQty, ClassMetric.classReturnQty, ClassMetric.classRfc, ClassMetric.classStringLiteralsQty, ClassMetric.classSubClassesQty, ClassMetric.classTryCatchQty, ClassMetric.classUniqueWordsQty, ClassMetric.classVariablesQty, ClassMetric.classWmc, ClassMetric.classTCC, ClassMetric.isInnerClass, MethodMetric.methodAnonymousClassesQty, MethodMetric.methodAssignmentsQty, MethodMetric.methodCbo, MethodMetric.methodComparisonsQty, MethodMetric.methodLambdasQty, MethodMetric.methodLoc, MethodMetric.methodLoopQty, MethodMetric.methodMathOperationsQty, MethodMetric.methodMaxNestedBlocks, MethodMetric.methodNumbersQty, MethodMetric.methodParametersQty, MethodMetric.methodParenthesizedExpsQty, MethodMetric.methodReturnQty, MethodMetric.methodRfc, MethodMetric.methodStringLiteralsQty, MethodMetric.methodSubClassesQty, MethodMetric.methodTryCatchQty, MethodMetric.methodUniqueWordsQty, MethodMetric.methodVariablesQty, MethodMetric.methodWmc, MethodMetric.startLine, ProcessMetrics.authorOwnership, ProcessMetrics.bugFixCount, ProcessMetrics.qtyMajorAuthors, ProcessMetrics.qtyMinorAuthors, ProcessMetrics.qtyOfAuthors, ProcessMetrics.qtyOfCommits, ProcessMetrics.refactoringsInvolved FROM StableCommit INNER JOIN CommitMetaData ON StableCommit.commitMetaData_id = CommitMetaData.id INNER JOIN ClassMetric ON StableCommit.classMetrics_id = ClassMetric.id INNER JOIN MethodMetric ON StableCommit.methodMetrics_id = MethodMetric.id INNER JOIN ProcessMetrics ON StableCommit.processMetrics_id = ProcessMetrics.id INNER JOIN project ON StableCommit.project_id = project.id WHERE StableCommit.commitThreshold = 20 AND StableCommit.`level` = 2 AND StableCommit.isTest = 0 AND datasetName IN (\"github\")\"\"\"\n"
   ]
  },
  {
   "cell_type": "code",
   "execution_count": 70,
   "id": "867b0985",
   "metadata": {},
   "outputs": [],
   "source": [
    "EXTRACT_METHOD_LEVEL_METRIC_PARAMETERIZED_QUERY = \"\"\"\n",
    "SELECT CONCAT_WS('.', 'RefactoringCommit', RefactoringCommit.id) AS `index`, ClassMetric.classAnonymousClassesQty, ClassMetric.classAssignmentsQty, ClassMetric.classCbo, ClassMetric.classComparisonsQty, ClassMetric.classLambdasQty, ClassMetric.classLcom, ClassMetric.classLoc, ClassMetric.classLCC, ClassMetric.classLoopQty, ClassMetric.classMathOperationsQty, ClassMetric.classMaxNestedBlocks, ClassMetric.classNosi, ClassMetric.classNumberOfAbstractMethods, ClassMetric.classNumberOfDefaultFields, ClassMetric.classNumberOfDefaultMethods, ClassMetric.classNumberOfFields, ClassMetric.classNumberOfFinalFields, ClassMetric.classNumberOfFinalMethods, ClassMetric.classNumberOfMethods, ClassMetric.classNumberOfPrivateFields, ClassMetric.classNumberOfPrivateMethods, ClassMetric.classNumberOfProtectedFields, ClassMetric.classNumberOfProtectedMethods, ClassMetric.classNumberOfPublicFields, ClassMetric.classNumberOfPublicMethods, ClassMetric.classNumberOfStaticFields, ClassMetric.classNumberOfStaticMethods, ClassMetric.classNumberOfSynchronizedFields, ClassMetric.classNumberOfSynchronizedMethods, ClassMetric.classNumbersQty, ClassMetric.classParenthesizedExpsQty, ClassMetric.classReturnQty, ClassMetric.classRfc, ClassMetric.classStringLiteralsQty, ClassMetric.classSubClassesQty, ClassMetric.classTryCatchQty, ClassMetric.classUniqueWordsQty, ClassMetric.classVariablesQty, ClassMetric.classWmc, ClassMetric.classTCC, ClassMetric.isInnerClass, MethodMetric.methodAnonymousClassesQty, MethodMetric.methodAssignmentsQty, MethodMetric.methodCbo, MethodMetric.methodComparisonsQty, MethodMetric.methodLambdasQty, MethodMetric.methodLoc, MethodMetric.methodLoopQty, MethodMetric.methodMathOperationsQty, MethodMetric.methodMaxNestedBlocks, MethodMetric.methodNumbersQty, MethodMetric.methodParametersQty, MethodMetric.methodParenthesizedExpsQty, MethodMetric.methodReturnQty, MethodMetric.methodRfc, MethodMetric.methodStringLiteralsQty, MethodMetric.methodSubClassesQty, MethodMetric.methodTryCatchQty, MethodMetric.methodUniqueWordsQty, MethodMetric.methodVariablesQty, MethodMetric.methodWmc, MethodMetric.startLine, ProcessMetrics.authorOwnership, ProcessMetrics.bugFixCount, ProcessMetrics.qtyMajorAuthors, ProcessMetrics.qtyMinorAuthors, ProcessMetrics.qtyOfAuthors, ProcessMetrics.qtyOfCommits, ProcessMetrics.refactoringsInvolved FROM RefactoringCommit INNER JOIN CommitMetaData ON RefactoringCommit.commitMetaData_id = CommitMetaData.id INNER JOIN ClassMetric ON RefactoringCommit.classMetrics_id = ClassMetric.id INNER JOIN MethodMetric ON RefactoringCommit.methodMetrics_id = MethodMetric.id INNER JOIN ProcessMetrics ON RefactoringCommit.processMetrics_id = ProcessMetrics.id INNER JOIN project ON RefactoringCommit.project_id = project.id WHERE RefactoringCommit.level = 2 AND RefactoringCommit.isValid = TRUE AND RefactoringCommit.isTest = 0 AND RefactoringCommit.refactoring={refactor_metric_name} AND datasetName IN (\"github\")\n",
    "\"\"\""
   ]
  },
  {
   "cell_type": "code",
   "execution_count": 71,
   "id": "e9356d0d",
   "metadata": {},
   "outputs": [
    {
     "name": "stdout",
     "output_type": "stream",
     "text": [
      "Feature collected for Extract And Move Method and saved at /Users/sanjaydutt/Documents/CSC503_project/data/extractandmovemethod.ftr\n",
      "Feature collected for Extract Method and saved at /Users/sanjaydutt/Documents/CSC503_project/data/extractmethod.ftr\n",
      "Feature collected for Inline Method and saved at /Users/sanjaydutt/Documents/CSC503_project/data/inlinemethod.ftr\n",
      "Feature collected for Move Method and saved at /Users/sanjaydutt/Documents/CSC503_project/data/movemethod.ftr\n",
      "Feature collected for Pull Up Method and saved at /Users/sanjaydutt/Documents/CSC503_project/data/pullupmethod.ftr\n",
      "Feature collected for Push Down Method and saved at /Users/sanjaydutt/Documents/CSC503_project/data/pushdownmethod.ftr\n",
      "Feature collected for Rename Method and saved at /Users/sanjaydutt/Documents/CSC503_project/data/renamemethod.ftr\n",
      "Feature collected for Extract And Move Method and saved at /Users/sanjaydutt/Documents/CSC503_project/data/extractandmovemethod.ftr\n",
      "Feature collected for Change Return Type and saved at /Users/sanjaydutt/Documents/CSC503_project/data/changereturntype.ftr\n",
      "Feature collected for Move And Inline Method and saved at /Users/sanjaydutt/Documents/CSC503_project/data/moveandinlinemethod.ftr\n",
      "Feature collected for Move And Rename Method and saved at /Users/sanjaydutt/Documents/CSC503_project/data/moveandrenamemethod.ftr\n",
      "Feature collected for Change Parameter Type and saved at /Users/sanjaydutt/Documents/CSC503_project/data/changeparametertype.ftr\n",
      "Feature collected for Split Parameter and saved at /Users/sanjaydutt/Documents/CSC503_project/data/splitparameter.ftr\n",
      "Feature collected for Merge Parameter and saved at /Users/sanjaydutt/Documents/CSC503_project/data/mergeparameter.ftr\n"
     ]
    }
   ],
   "source": [
    "CACHE_DIR = \"/Users/sanjaydutt/Documents/CSC503_project/data/\"\n",
    "METHOD_LEVEL_REFACTORINGS = [\n",
    "    \"Extract And Move Method\",\n",
    "    \"Extract Method\",\n",
    "    \"Inline Method\",\n",
    "    \"Move Method\",\n",
    "    \"Pull Up Method\",\n",
    "    \"Push Down Method\",\n",
    "    \"Rename Method\",\n",
    "    \"Extract And Move Method\",\n",
    "    \"Change Return Type\",\n",
    "    \"Move And Inline Method\",\n",
    "    \"Move And Rename Method\",\n",
    "    \"Change Parameter Type\",\n",
    "    \"Split Parameter\",\n",
    "    \"Merge Parameter\"]\n",
    "\n",
    "for metric_name in METHOD_LEVEL_REFACTORINGS: \n",
    "    file_path = ''.join([CACHE_DIR, ''.join(metric_name.lower().split()),'.ftr'])\n",
    "    df = pd.read_sql_query(\n",
    "                EXTRACT_METHOD_LEVEL_METRIC_PARAMETERIZED_QUERY.format(refactor_metric_name = '\"'+metric_name+'\"'), mydb, coerce_float=False, index_col=\"index\")\n",
    "    df.reset_index().to_feather(file_path)\n",
    "    print(\"Feature collected for\", metric_name, \"and saved at\", file_path)"
   ]
  },
  {
   "cell_type": "code",
   "execution_count": 66,
   "id": "5035fdb4",
   "metadata": {},
   "outputs": [
    {
     "name": "stdout",
     "output_type": "stream",
     "text": [
      "Feature collected for Non Refactored Data and saved at /Users/sanjaydutt/Documents/CSC503_project/data/nonrefactoreddata.ftr\n"
     ]
    }
   ],
   "source": [
    "# Extract and cache the Non Refactored dataset\n",
    "file_path = ''.join([CACHE_DIR,'nonrefactoreddata.ftr'])\n",
    "df = pd.read_sql_query(\n",
    "                NON_REFACTORED_DATA_QUERY, mydb, coerce_float=False, index_col=\"index\")\n",
    "df.reset_index().to_feather(file_path)\n",
    "print(\"Feature collected for Non Refactored Data and saved at\", file_path)"
   ]
  }
 ],
 "metadata": {
  "kernelspec": {
   "display_name": "Python 3",
   "language": "python",
   "name": "python3"
  },
  "language_info": {
   "codemirror_mode": {
    "name": "ipython",
    "version": 3
   },
   "file_extension": ".py",
   "mimetype": "text/x-python",
   "name": "python",
   "nbconvert_exporter": "python",
   "pygments_lexer": "ipython3",
   "version": "3.8.8"
  }
 },
 "nbformat": 4,
 "nbformat_minor": 5
}
